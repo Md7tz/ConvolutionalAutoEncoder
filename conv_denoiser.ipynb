{
 "cells": [
  {
   "cell_type": "markdown",
   "id": "1908ea69-5eb2-4187-bb1d-a513fae384bc",
   "metadata": {},
   "source": [
    "# Denoising Autoencoder\r\n",
    "\r\n",
    "Sticking with the MNIST dataset, let's add noise to our data and see if we can define and train an autoencoder to _de_-noise the images.\r\n",
    "\r\n",
    "<img src='notebook_ims/autoencoder_denoise.png' width=70%/>\r\n",
    "\r\n",
    "Let's get started by importing our libraries and getting the dataset.der.**"
   ]
  },
  {
   "cell_type": "code",
   "execution_count": 1,
   "id": "824cb8bb-6280-4546-952b-1f3af49d17b8",
   "metadata": {},
   "outputs": [],
   "source": [
    "!pip install -r requirements.txt | grep -v \"already\""
   ]
  },
  {
   "cell_type": "code",
   "execution_count": 2,
   "id": "b8305f80-1af2-4d13-b5f4-04be505ad60c",
   "metadata": {},
   "outputs": [
    {
     "data": {
      "text/plain": [
       "{'status': 'ok', 'restart': True}"
      ]
     },
     "execution_count": 2,
     "metadata": {},
     "output_type": "execute_result"
    }
   ],
   "source": [
    "import IPython\n",
    "\n",
    "IPython.Application.instance().kernel.do_shutdown(True) # Restart automatically"
   ]
  },
  {
   "cell_type": "code",
   "execution_count": 6,
   "id": "7d444a09-a4bb-4b27-a47b-bfd5851f35a5",
   "metadata": {},
   "outputs": [],
   "source": [
    "import torch\n",
    "from torch import nn\n",
    "\n",
    "import torchvision.models\n",
    "import torchvision.transforms as T\n",
    "from torchvision import datasets\n",
    "\n",
    "import numpy as np\n",
    "import pandas as pd\n",
    "import multiprocessing\n",
    "from tqdm import tqdm\n",
    "\n",
    "from helpers import (get_data_loaders, seed_all, anomaly_detection_display)\n",
    "\n",
    "seed_all(42)"
   ]
  },
  {
   "cell_type": "code",
   "execution_count": 7,
   "id": "d10b4208-7255-4219-996b-c84be2bc9864",
   "metadata": {},
   "outputs": [
    {
     "name": "stdout",
     "output_type": "stream",
     "text": [
      "Using 48000 examples for training and 12000 for validation\n",
      "Using 10000 for testing\n"
     ]
    }
   ],
   "source": [
    "data_loaders = get_data_loaders(batch_size=20)"
   ]
  },
  {
   "cell_type": "markdown",
   "id": "b4d64fe4-14cc-46ac-886a-94f8cbcb620f",
   "metadata": {},
   "source": [
    "### Visualize the data"
   ]
  },
  {
   "cell_type": "code",
   "execution_count": 8,
   "id": "c4ad2cf6-fa50-4850-b6a9-81a833533b2a",
   "metadata": {},
   "outputs": [
    {
     "data": {
      "image/png": "[encoded data removed]",
      "text/plain": [
       "<Figure size 200x200 with 1 Axes>"
      ]
     },
     "metadata": {},
     "output_type": "display_data"
    }
   ],
   "source": [
    "import matplotlib.pyplot as plt\n",
    "%matplotlib inline\n",
    "\n",
    "dataiter = iter(data_loaders['train'])\n",
    "images, labels = next(dataiter)\n",
    "images = images.numpy()\n",
    "\n",
    "img = np.squeeze(images[0])\n",
    "\n",
    "fig, sub = plt.subplots(figsize=(2, 2))\n",
    "sub.imshow(img, cmap='gray')\n",
    "_ = sub.axis('off')"
   ]
  },
  {
   "cell_type": "code",
   "execution_count": 34,
   "id": "89f3ec6d-8a2c-475b-b5fd-565331f4fbe9",
   "metadata": {},
   "outputs": [
    {
     "data": {
      "text/plain": [
       "device(type='cuda')"
      ]
     },
     "execution_count": 34,
     "metadata": {},
     "output_type": "execute_result"
    }
   ],
   "source": [
    "device = torch.device('cuda' if torch.cuda.is_available() else 'cpu')\n",
    "device"
   ]
  },
  {
   "cell_type": "markdown",
   "id": "6f1f8e6a-d8ec-4b25-aa9d-22b6076240da",
   "metadata": {},
   "source": [
    "---\r\n",
    "# Denoising\r",
    "e, autoencoders like the nwe've buiin the other notebook lt so far aren't too useful in practice. However, they can be used to denoise images quite successfully just by training the network on noisy images. We can create the noisy images ourselves by adding Gaussian noise to the training images, then clipping the values to be between 0 and 1.\r\n",
    "\r\n",
    ">**We'll use noisy images as input and the original, clean images as targets.** \r\n",
    "\r\n",
    "Below is an example of some of the noisy images I generated and the associated, denoised im<img src='notebook_ims/denoising.png' />"
   ]
  },
  {
   "cell_type": "markdown",
   "id": "1075fc94-8016-4b65-b75e-c660b0bb406c",
   "metadata": {},
   "source": [
    "### Architecture"
   ]
  },
  {
   "cell_type": "code",
   "execution_count": 35,
   "id": "a7d5f481-6f13-40e9-b009-df106608e2c9",
   "metadata": {},
   "outputs": [
    {
     "data": {
      "text/plain": [
       "ConvDenoiser(\n",
       "  (encoder): Sequential(\n",
       "    (0): Conv2d(1, 32, kernel_size=(3, 3), stride=(1, 1), padding=(1, 1))\n",
       "    (1): ReLU()\n",
       "    (2): BatchNorm2d(32, eps=1e-05, momentum=0.1, affine=True, track_running_stats=True)\n",
       "    (3): MaxPool2d(kernel_size=2, stride=2, padding=0, dilation=1, ceil_mode=False)\n",
       "    (4): Conv2d(32, 16, kernel_size=(3, 3), stride=(1, 1), padding=(1, 1))\n",
       "    (5): ReLU()\n",
       "    (6): BatchNorm2d(16, eps=1e-05, momentum=0.1, affine=True, track_running_stats=True)\n",
       "    (7): MaxPool2d(kernel_size=2, stride=2, padding=0, dilation=1, ceil_mode=False)\n",
       "    (8): Conv2d(16, 8, kernel_size=(3, 3), stride=(1, 1), padding=(1, 1))\n",
       "    (9): ReLU()\n",
       "    (10): BatchNorm2d(8, eps=1e-05, momentum=0.1, affine=True, track_running_stats=True)\n",
       "    (11): MaxPool2d(kernel_size=2, stride=2, padding=0, dilation=1, ceil_mode=False)\n",
       "  )\n",
       "  (decoder): Sequential(\n",
       "    (0): ConvTranspose2d(8, 8, kernel_size=(3, 3), stride=(2, 2))\n",
       "    (1): ReLU()\n",
       "    (2): BatchNorm2d(8, eps=1e-05, momentum=0.1, affine=True, track_running_stats=True)\n",
       "    (3): ConvTranspose2d(8, 16, kernel_size=(2, 2), stride=(2, 2))\n",
       "    (4): ReLU()\n",
       "    (5): BatchNorm2d(16, eps=1e-05, momentum=0.1, affine=True, track_running_stats=True)\n",
       "    (6): ConvTranspose2d(16, 32, kernel_size=(2, 2), stride=(2, 2))\n",
       "    (7): ReLU()\n",
       "    (8): BatchNorm2d(32, eps=1e-05, momentum=0.1, affine=True, track_running_stats=True)\n",
       "    (9): Conv2d(32, 1, kernel_size=(3, 3), stride=(1, 1), padding=(1, 1))\n",
       "    (10): Sigmoid()\n",
       "  )\n",
       "  (model): Sequential(\n",
       "    (0): Sequential(\n",
       "      (0): Conv2d(1, 32, kernel_size=(3, 3), stride=(1, 1), padding=(1, 1))\n",
       "      (1): ReLU()\n",
       "      (2): BatchNorm2d(32, eps=1e-05, momentum=0.1, affine=True, track_running_stats=True)\n",
       "      (3): MaxPool2d(kernel_size=2, stride=2, padding=0, dilation=1, ceil_mode=False)\n",
       "      (4): Conv2d(32, 16, kernel_size=(3, 3), stride=(1, 1), padding=(1, 1))\n",
       "      (5): ReLU()\n",
       "      (6): BatchNorm2d(16, eps=1e-05, momentum=0.1, affine=True, track_running_stats=True)\n",
       "      (7): MaxPool2d(kernel_size=2, stride=2, padding=0, dilation=1, ceil_mode=False)\n",
       "      (8): Conv2d(16, 8, kernel_size=(3, 3), stride=(1, 1), padding=(1, 1))\n",
       "      (9): ReLU()\n",
       "      (10): BatchNorm2d(8, eps=1e-05, momentum=0.1, affine=True, track_running_stats=True)\n",
       "      (11): MaxPool2d(kernel_size=2, stride=2, padding=0, dilation=1, ceil_mode=False)\n",
       "    )\n",
       "    (1): Sequential(\n",
       "      (0): ConvTranspose2d(8, 8, kernel_size=(3, 3), stride=(2, 2))\n",
       "      (1): ReLU()\n",
       "      (2): BatchNorm2d(8, eps=1e-05, momentum=0.1, affine=True, track_running_stats=True)\n",
       "      (3): ConvTranspose2d(8, 16, kernel_size=(2, 2), stride=(2, 2))\n",
       "      (4): ReLU()\n",
       "      (5): BatchNorm2d(16, eps=1e-05, momentum=0.1, affine=True, track_running_stats=True)\n",
       "      (6): ConvTranspose2d(16, 32, kernel_size=(2, 2), stride=(2, 2))\n",
       "      (7): ReLU()\n",
       "      (8): BatchNorm2d(32, eps=1e-05, momentum=0.1, affine=True, track_running_stats=True)\n",
       "      (9): Conv2d(32, 1, kernel_size=(3, 3), stride=(1, 1), padding=(1, 1))\n",
       "      (10): Sigmoid()\n",
       "    )\n",
       "  )\n",
       ")"
      ]
     },
     "execution_count": 35,
     "metadata": {},
     "output_type": "execute_result"
    }
   ],
   "source": [
    "class ConvDenoiser(nn.Module):\n",
    "\n",
    "    def __init__(self):\n",
    "        super(ConvDenoiser, self).__init__()\n",
    "\n",
    "        ## Encoder ##\n",
    "        self.encoder = nn.Sequential(\n",
    "            nn.Conv2d(1, 32, 3, padding=1),\n",
    "            nn.ReLU(),\n",
    "            nn.BatchNorm2d(32),\n",
    "            nn.MaxPool2d(2, 2), # 32 x 14 x 14\n",
    "            \n",
    "            nn.Conv2d(32, 16, 3, padding=1),\n",
    "            nn.ReLU(),\n",
    "            nn.BatchNorm2d(16),\n",
    "            nn.MaxPool2d(2, 2), # 16 x 7 x 7\n",
    "            \n",
    "            nn.Conv2d(16, 8, 3, padding=1),\n",
    "            nn.ReLU(),\n",
    "            nn.BatchNorm2d(8),\n",
    "            nn.MaxPool2d(2, 2), # 8 x 3 x 3\n",
    "        )\n",
    "\n",
    "        # first layer has to have kernel size 3 because \n",
    "        # 3x3 using k=2 and s=2 will result in doubling the spatial dim\n",
    "        # however we need more than doubling since going from 3x3 to 7x7\n",
    "        # requires increase in kernel size even if we have to produce checkerboard artifacts\n",
    "        self.decoder = nn.Sequential(\n",
    "            nn.ConvTranspose2d(8, 8, 3, stride=2), # stride 2 doubles the spatial dimension (width & height)\n",
    "            nn.ReLU(),\n",
    "            nn.BatchNorm2d(8), # 8 x 7 x 7\n",
    "            \n",
    "            nn.ConvTranspose2d(8, 16, 2, stride=2),\n",
    "            nn.ReLU(),\n",
    "            nn.BatchNorm2d(16), # 16 x 14 x 14\n",
    "            \n",
    "            nn.ConvTranspose2d(16, 32, 2, stride=2),\n",
    "            nn.ReLU(),\n",
    "            nn.BatchNorm2d(32), # 32 x 28 x 28\n",
    "            \n",
    "            nn.Conv2d(32, 1, 3, padding=1), # 1 x 28 x 28\n",
    "            nn.Sigmoid()\n",
    "        ) # 1 x 28 x 28\n",
    "\n",
    "        self.model = nn.Sequential(\n",
    "            self.encoder,\n",
    "            self.decoder\n",
    "        )\n",
    "\n",
    "    def forward(self, x):\n",
    "        # define feed-forward behaviour\n",
    "\n",
    "        return self.model(x)\n",
    "\n",
    "model = ConvDenoiser()\n",
    "model.to(device)"
   ]
  },
  {
   "cell_type": "code",
   "execution_count": 36,
   "id": "79f4883d-6a77-43c3-bc04-f4b612008f23",
   "metadata": {},
   "outputs": [
    {
     "name": "stdout",
     "output_type": "stream",
     "text": [
      "----------------------------------------------------------------\n",
      "        Layer (type)               Output Shape         Param #\n",
      "================================================================\n",
      "            Conv2d-1           [-1, 32, 28, 28]             320\n",
      "            Conv2d-2           [-1, 32, 28, 28]             320\n",
      "              ReLU-3           [-1, 32, 28, 28]               0\n",
      "              ReLU-4           [-1, 32, 28, 28]               0\n",
      "       BatchNorm2d-5           [-1, 32, 28, 28]              64\n",
      "       BatchNorm2d-6           [-1, 32, 28, 28]              64\n",
      "         MaxPool2d-7           [-1, 32, 14, 14]               0\n",
      "         MaxPool2d-8           [-1, 32, 14, 14]               0\n",
      "            Conv2d-9           [-1, 16, 14, 14]           4,624\n",
      "           Conv2d-10           [-1, 16, 14, 14]           4,624\n",
      "             ReLU-11           [-1, 16, 14, 14]               0\n",
      "             ReLU-12           [-1, 16, 14, 14]               0\n",
      "      BatchNorm2d-13           [-1, 16, 14, 14]              32\n",
      "      BatchNorm2d-14           [-1, 16, 14, 14]              32\n",
      "        MaxPool2d-15             [-1, 16, 7, 7]               0\n",
      "        MaxPool2d-16             [-1, 16, 7, 7]               0\n",
      "           Conv2d-17              [-1, 8, 7, 7]           1,160\n",
      "           Conv2d-18              [-1, 8, 7, 7]           1,160\n",
      "             ReLU-19              [-1, 8, 7, 7]               0\n",
      "             ReLU-20              [-1, 8, 7, 7]               0\n",
      "      BatchNorm2d-21              [-1, 8, 7, 7]              16\n",
      "      BatchNorm2d-22              [-1, 8, 7, 7]              16\n",
      "        MaxPool2d-23              [-1, 8, 3, 3]               0\n",
      "        MaxPool2d-24              [-1, 8, 3, 3]               0\n",
      "  ConvTranspose2d-25              [-1, 8, 7, 7]             584\n",
      "  ConvTranspose2d-26              [-1, 8, 7, 7]             584\n",
      "             ReLU-27              [-1, 8, 7, 7]               0\n",
      "             ReLU-28              [-1, 8, 7, 7]               0\n",
      "      BatchNorm2d-29              [-1, 8, 7, 7]              16\n",
      "      BatchNorm2d-30              [-1, 8, 7, 7]              16\n",
      "  ConvTranspose2d-31           [-1, 16, 14, 14]             528\n",
      "  ConvTranspose2d-32           [-1, 16, 14, 14]             528\n",
      "             ReLU-33           [-1, 16, 14, 14]               0\n",
      "             ReLU-34           [-1, 16, 14, 14]               0\n",
      "      BatchNorm2d-35           [-1, 16, 14, 14]              32\n",
      "      BatchNorm2d-36           [-1, 16, 14, 14]              32\n",
      "  ConvTranspose2d-37           [-1, 32, 28, 28]           2,080\n",
      "  ConvTranspose2d-38           [-1, 32, 28, 28]           2,080\n",
      "             ReLU-39           [-1, 32, 28, 28]               0\n",
      "             ReLU-40           [-1, 32, 28, 28]               0\n",
      "      BatchNorm2d-41           [-1, 32, 28, 28]              64\n",
      "      BatchNorm2d-42           [-1, 32, 28, 28]              64\n",
      "           Conv2d-43            [-1, 1, 28, 28]             289\n",
      "           Conv2d-44            [-1, 1, 28, 28]             289\n",
      "          Sigmoid-45            [-1, 1, 28, 28]               0\n",
      "          Sigmoid-46            [-1, 1, 28, 28]               0\n",
      "================================================================\n",
      "Total params: 19,618\n",
      "Trainable params: 19,618\n",
      "Non-trainable params: 0\n",
      "----------------------------------------------------------------\n",
      "Input size (MB): 0.00\n",
      "Forward/backward pass size (MB): 2.75\n",
      "Params size (MB): 0.07\n",
      "Estimated Total Size (MB): 2.83\n",
      "----------------------------------------------------------------\n"
     ]
    }
   ],
   "source": [
    "from torchsummary import summary\n",
    "summary(model, (1, 28, 28))"
   ]
  },
  {
   "cell_type": "markdown",
   "id": "dc418b78-ef20-4ecd-bed4-e2a5a99af4ed",
   "metadata": {},
   "source": [
    "\n",
    "\r\n",
    ">In this case, we are actually **adding some noise** to these images and we'll feed these `noisy_imgs` to our model. The model will produce reconstructed images based on the noisy input. But, we want it to produce _normal_ un-noisy images, and so, when we calculate the loss, we will still compare the reconstructed outputs to the original images!\r\n",
    "\r\n",
    "First let's specify the loss and the optimizer:"
   ]
  },
  {
   "cell_type": "markdown",
   "id": "de3733e2-016a-4523-86d4-721328b62cdc",
   "metadata": {},
   "source": [
    "---\r\n",
    "### Loss Function\r\n",
    "We will use se the Mean Squared Error loss, which is called `MSELoss` in PyTorch:"
   ]
  },
  {
   "cell_type": "code",
   "execution_count": 37,
   "id": "92996880-95d1-4e11-bf65-8895545f4f81",
   "metadata": {},
   "outputs": [],
   "source": [
    "criterion = nn.MSELoss()"
   ]
  },
  {
   "cell_type": "markdown",
   "id": "601cc507-e657-4fed-85d0-37c0abebe07c",
   "metadata": {},
   "source": [
    "### Optimizer"
   ]
  },
  {
   "cell_type": "code",
   "execution_count": 38,
   "id": "1acfed18-0781-4764-845c-5874842f5c10",
   "metadata": {},
   "outputs": [],
   "source": [
    "optimizer = torch.optim.Adam(model.parameters(), lr=1e-3)"
   ]
  },
  {
   "cell_type": "markdown",
   "id": "61c0075f-26d2-476d-ba40-268e9564366d",
   "metadata": {},
   "source": [
    "### Training\r\n",
    "\r\n",
    "The training loop is similar to a normal training loop, however, this task is an unsupervised task. That means we do not need labels. The MNIST dataset does provide labels, of course, so we will just disregard them."
   ]
  },
  {
   "cell_type": "code",
   "execution_count": 39,
   "id": "bf5c4ce1-bbbb-445e-8354-f868f2f85a51",
   "metadata": {},
   "outputs": [
    {
     "name": "stderr",
     "output_type": "stream",
     "text": [
      "Training: 100%|█████████████████████████████| 2400/2400 [01:22<00:00, 28.97it/s]\n",
      "Validating: 100%|█████████████████████████████| 600/600 [00:13<00:00, 44.27it/s]\n"
     ]
    },
    {
     "name": "stdout",
     "output_type": "stream",
     "text": [
      "Epoch: 1 \tTraining Loss: 0.720957\tValid Loss: 0.538131\n"
     ]
    },
    {
     "name": "stderr",
     "output_type": "stream",
     "text": [
      "Training: 100%|█████████████████████████████| 2400/2400 [01:16<00:00, 31.26it/s]\n",
      "Validating: 100%|█████████████████████████████| 600/600 [00:13<00:00, 43.87it/s]\n"
     ]
    },
    {
     "name": "stdout",
     "output_type": "stream",
     "text": [
      "Epoch: 2 \tTraining Loss: 0.489393\tValid Loss: 0.460390\n"
     ]
    },
    {
     "name": "stderr",
     "output_type": "stream",
     "text": [
      "Training: 100%|█████████████████████████████| 2400/2400 [01:16<00:00, 31.18it/s]\n",
      "Validating: 100%|█████████████████████████████| 600/600 [00:13<00:00, 43.58it/s]\n"
     ]
    },
    {
     "name": "stdout",
     "output_type": "stream",
     "text": [
      "Epoch: 3 \tTraining Loss: 0.436315\tValid Loss: 0.420219\n"
     ]
    },
    {
     "name": "stderr",
     "output_type": "stream",
     "text": [
      "Training: 100%|█████████████████████████████| 2400/2400 [01:16<00:00, 31.34it/s]\n",
      "Validating: 100%|█████████████████████████████| 600/600 [00:13<00:00, 44.63it/s]\n"
     ]
    },
    {
     "name": "stdout",
     "output_type": "stream",
     "text": [
      "Epoch: 4 \tTraining Loss: 0.399816\tValid Loss: 0.382209\n"
     ]
    },
    {
     "name": "stderr",
     "output_type": "stream",
     "text": [
      "Training: 100%|█████████████████████████████| 2400/2400 [01:16<00:00, 31.17it/s]\n",
      "Validating: 100%|█████████████████████████████| 600/600 [00:13<00:00, 44.38it/s]\n"
     ]
    },
    {
     "name": "stdout",
     "output_type": "stream",
     "text": [
      "Epoch: 5 \tTraining Loss: 0.375117\tValid Loss: 0.362830\n"
     ]
    },
    {
     "name": "stderr",
     "output_type": "stream",
     "text": [
      "Training: 100%|█████████████████████████████| 2400/2400 [01:16<00:00, 31.25it/s]\n",
      "Validating: 100%|█████████████████████████████| 600/600 [00:13<00:00, 43.81it/s]\n"
     ]
    },
    {
     "name": "stdout",
     "output_type": "stream",
     "text": [
      "Epoch: 6 \tTraining Loss: 0.359411\tValid Loss: 0.350992\n"
     ]
    },
    {
     "name": "stderr",
     "output_type": "stream",
     "text": [
      "Training: 100%|█████████████████████████████| 2400/2400 [01:18<00:00, 30.50it/s]\n",
      "Validating: 100%|█████████████████████████████| 600/600 [00:13<00:00, 43.97it/s]\n"
     ]
    },
    {
     "name": "stdout",
     "output_type": "stream",
     "text": [
      "Epoch: 7 \tTraining Loss: 0.348655\tValid Loss: 0.340430\n"
     ]
    },
    {
     "name": "stderr",
     "output_type": "stream",
     "text": [
      "Training: 100%|█████████████████████████████| 2400/2400 [01:17<00:00, 31.00it/s]\n",
      "Validating: 100%|█████████████████████████████| 600/600 [00:13<00:00, 43.71it/s]\n"
     ]
    },
    {
     "name": "stdout",
     "output_type": "stream",
     "text": [
      "Epoch: 8 \tTraining Loss: 0.341076\tValid Loss: 0.344282\n"
     ]
    },
    {
     "name": "stderr",
     "output_type": "stream",
     "text": [
      "Training: 100%|█████████████████████████████| 2400/2400 [01:14<00:00, 32.10it/s]\n",
      "Validating: 100%|█████████████████████████████| 600/600 [00:12<00:00, 49.82it/s]\n"
     ]
    },
    {
     "name": "stdout",
     "output_type": "stream",
     "text": [
      "Epoch: 9 \tTraining Loss: 0.337300\tValid Loss: 0.335934\n"
     ]
    },
    {
     "name": "stderr",
     "output_type": "stream",
     "text": [
      "Training: 100%|█████████████████████████████| 2400/2400 [01:11<00:00, 33.76it/s]\n",
      "Validating: 100%|█████████████████████████████| 600/600 [00:12<00:00, 49.94it/s]\n"
     ]
    },
    {
     "name": "stdout",
     "output_type": "stream",
     "text": [
      "Epoch: 10 \tTraining Loss: 0.333266\tValid Loss: 0.333180\n"
     ]
    },
    {
     "name": "stderr",
     "output_type": "stream",
     "text": [
      "Training: 100%|█████████████████████████████| 2400/2400 [01:10<00:00, 34.26it/s]\n",
      "Validating: 100%|█████████████████████████████| 600/600 [00:11<00:00, 50.03it/s]\n"
     ]
    },
    {
     "name": "stdout",
     "output_type": "stream",
     "text": [
      "Epoch: 11 \tTraining Loss: 0.330374\tValid Loss: 0.329390\n"
     ]
    },
    {
     "name": "stderr",
     "output_type": "stream",
     "text": [
      "Training: 100%|█████████████████████████████| 2400/2400 [01:11<00:00, 33.74it/s]\n",
      "Validating: 100%|█████████████████████████████| 600/600 [00:11<00:00, 50.14it/s]\n"
     ]
    },
    {
     "name": "stdout",
     "output_type": "stream",
     "text": [
      "Epoch: 12 \tTraining Loss: 0.327639\tValid Loss: 0.322823\n"
     ]
    },
    {
     "name": "stderr",
     "output_type": "stream",
     "text": [
      "Training: 100%|█████████████████████████████| 2400/2400 [01:11<00:00, 33.76it/s]\n",
      "Validating: 100%|█████████████████████████████| 600/600 [00:11<00:00, 50.30it/s]\n"
     ]
    },
    {
     "name": "stdout",
     "output_type": "stream",
     "text": [
      "Epoch: 13 \tTraining Loss: 0.325851\tValid Loss: 0.322486\n"
     ]
    },
    {
     "name": "stderr",
     "output_type": "stream",
     "text": [
      "Training: 100%|█████████████████████████████| 2400/2400 [01:10<00:00, 33.80it/s]\n",
      "Validating: 100%|█████████████████████████████| 600/600 [00:12<00:00, 49.74it/s]\n"
     ]
    },
    {
     "name": "stdout",
     "output_type": "stream",
     "text": [
      "Epoch: 14 \tTraining Loss: 0.324450\tValid Loss: 0.328794\n"
     ]
    },
    {
     "name": "stderr",
     "output_type": "stream",
     "text": [
      "Training: 100%|█████████████████████████████| 2400/2400 [01:10<00:00, 34.20it/s]\n",
      "Validating: 100%|█████████████████████████████| 600/600 [00:12<00:00, 48.74it/s]\n"
     ]
    },
    {
     "name": "stdout",
     "output_type": "stream",
     "text": [
      "Epoch: 15 \tTraining Loss: 0.322543\tValid Loss: 0.319141\n"
     ]
    },
    {
     "name": "stderr",
     "output_type": "stream",
     "text": [
      "Training: 100%|█████████████████████████████| 2400/2400 [01:20<00:00, 29.91it/s]\n",
      "Validating: 100%|█████████████████████████████| 600/600 [00:13<00:00, 43.67it/s]\n"
     ]
    },
    {
     "name": "stdout",
     "output_type": "stream",
     "text": [
      "Epoch: 16 \tTraining Loss: 0.321174\tValid Loss: 0.319314\n"
     ]
    },
    {
     "name": "stderr",
     "output_type": "stream",
     "text": [
      "Training: 100%|█████████████████████████████| 2400/2400 [01:17<00:00, 31.08it/s]\n",
      "Validating: 100%|█████████████████████████████| 600/600 [00:13<00:00, 43.66it/s]\n"
     ]
    },
    {
     "name": "stdout",
     "output_type": "stream",
     "text": [
      "Epoch: 17 \tTraining Loss: 0.320096\tValid Loss: 0.320254\n"
     ]
    },
    {
     "name": "stderr",
     "output_type": "stream",
     "text": [
      "Training: 100%|█████████████████████████████| 2400/2400 [01:17<00:00, 31.06it/s]\n",
      "Validating: 100%|█████████████████████████████| 600/600 [00:13<00:00, 44.15it/s]\n"
     ]
    },
    {
     "name": "stdout",
     "output_type": "stream",
     "text": [
      "Epoch: 18 \tTraining Loss: 0.318393\tValid Loss: 0.316464\n"
     ]
    },
    {
     "name": "stderr",
     "output_type": "stream",
     "text": [
      "Training: 100%|█████████████████████████████| 2400/2400 [01:16<00:00, 31.41it/s]\n",
      "Validating: 100%|█████████████████████████████| 600/600 [00:13<00:00, 44.31it/s]\n"
     ]
    },
    {
     "name": "stdout",
     "output_type": "stream",
     "text": [
      "Epoch: 19 \tTraining Loss: 0.316920\tValid Loss: 0.318407\n"
     ]
    },
    {
     "name": "stderr",
     "output_type": "stream",
     "text": [
      "Training: 100%|█████████████████████████████| 2400/2400 [01:16<00:00, 31.50it/s]\n",
      "Validating: 100%|█████████████████████████████| 600/600 [00:13<00:00, 43.35it/s]"
     ]
    },
    {
     "name": "stdout",
     "output_type": "stream",
     "text": [
      "Epoch: 20 \tTraining Loss: 0.316817\tValid Loss: 0.327780\n"
     ]
    },
    {
     "name": "stderr",
     "output_type": "stream",
     "text": [
      "\n"
     ]
    }
   ],
   "source": [
    "n_epochs = 20\n",
    "\n",
    "# noise factor added to images\n",
    "noise_factor = 0.5\n",
    "\n",
    "for epoch in range(1, n_epochs + 1):\n",
    "    \n",
    "\n",
    "    ###################\n",
    "    # train the model #\n",
    "    ###################\n",
    "    model.train()\n",
    "\n",
    "    train_loss = 0.0\n",
    "\n",
    "    for data in tqdm(\n",
    "        iterable=data_loaders[\"train\"],\n",
    "        desc=\"Training\",\n",
    "        total=len(data_loaders[\"train\"]),\n",
    "        ncols=80,\n",
    "    ):\n",
    "        # Disregard labels\n",
    "        images, _ = data\n",
    "        images = images.to(device)\n",
    "\n",
    "        ## add random noise to the input images\n",
    "        ## rand_like: Returns a tensor with the same size as :attr:`input` that is filled with\n",
    "        ## random numbers from a uniform distribution on the interval :math:`[0, 1)`.\n",
    "        # noisy_imgs = images + noise_factor * torch.randn_like(images)\n",
    "        noisy_imgs = images + noise_factor * torch.randn(images.shape, device=device)\n",
    "        \n",
    "        # Clip the images to be between 0 and 1\n",
    "        noisy_imgs = torch.clamp(noisy_imgs, min=0., max=1.)\n",
    "        \n",
    "        # Clear the gradients of all optimizer variables\n",
    "        optimizer.zero_grad()\n",
    "\n",
    "        # Forward pass: compute predicted outputs by passing *noisy* images to the model\n",
    "        outputs = model(noisy_imgs)\n",
    "\n",
    "        # calculate the loss\n",
    "        # the \"target\" is still the original, not-noisy images\n",
    "        # because we want the model to learn to learn from the error\n",
    "        # between the decoded noisy image and the target original image\n",
    "        # to make the denoising result in an image closer to the original\n",
    "        loss = criterion(outputs, images)\n",
    "\n",
    "        # backward pass: compute gradient of the loss with respect to model parameters\n",
    "        loss.backward()\n",
    "\n",
    "        # perform a single optimization step\n",
    "        optimizer.step()\n",
    "\n",
    "        train_loss += loss.item() * images.size(0)\n",
    "\n",
    "    # validation\n",
    "    val_loss = 0.0\n",
    "\n",
    "    with torch.no_grad():\n",
    "        for data in tqdm(\n",
    "            iterable=data_loaders[\"val\"],\n",
    "            desc=\"Validating\",\n",
    "            total=len(data_loaders[\"val\"]),\n",
    "            ncols=80,\n",
    "        ):\n",
    "            # Disregard labels\n",
    "            images, _ = data\n",
    "            images = images.to(device)\n",
    "\n",
    "            ## add random noise to the input images\n",
    "            ## rand_like: Returns a tensor with the same size as :attr:`input` that is filled with\n",
    "            ## random numbers from a uniform distribution on the interval :math:`[0, 1)`.\n",
    "            # noisy_imgs = images + noise_factor * torch.rand_like(images)\n",
    "            noisy_imgs = images + noise_factor * torch.randn(images.shape, device=device)\n",
    "\n",
    "            # Clip the images to be between 0 and 1\n",
    "            noisy_imgs = torch.clamp(noisy_imgs, min=0., max=1.)\n",
    "            \n",
    "            # Forward pass\n",
    "            outputs = model(noisy_imgs)\n",
    "\n",
    "            # Calculate the loss (between input and output)\n",
    "            loss = criterion(outputs, images)\n",
    "\n",
    "            val_loss += loss.item() * images.size(0)\n",
    "\n",
    "    # Print avg training statistics\n",
    "    train_loss /= len(data_loaders[\"train\"])\n",
    "    val_loss /= len(data_loaders[\"val\"])\n",
    "    print(\"Epoch: {} \\tTraining Loss: {:.6f}\\tValid Loss: {:.6f}\".format(epoch, train_loss, val_loss))"
   ]
  },
  {
   "cell_type": "markdown",
   "id": "94d32dbb-5d5a-43e4-a14b-392214c6d302",
   "metadata": {},
   "source": [
    "### Save the model"
   ]
  },
  {
   "cell_type": "code",
   "execution_count": 40,
   "id": "27feb997-cd4a-4ddc-aaac-52b90bc13bfb",
   "metadata": {},
   "outputs": [],
   "source": [
    "# Save the weights to save_path\n",
    "torch.save(model.state_dict(), \"conv_denoiser.pt\")"
   ]
  },
  {
   "cell_type": "markdown",
   "id": "04af183c-c0d1-4326-8ee1-463981c5ce86",
   "metadata": {},
   "source": [
    "## Checking out the results\r\n",
    "\r\n",
    "Here I'm adding noise to the test images and passing them through the autoencoder. It does a suprisingly great job of removing the noise, even though it's sometimes difficult to tell what the original number is.look:"
   ]
  },
  {
   "cell_type": "code",
   "execution_count": 14,
   "id": "9aed755b-b4f8-497f-aa0b-26353f99f4e8",
   "metadata": {},
   "outputs": [
    {
     "data": {
      "text/plain": [
       "ConvDenoiser(\n",
       "  (encoder): Sequential(\n",
       "    (0): Conv2d(1, 32, kernel_size=(3, 3), stride=(1, 1), padding=(1, 1))\n",
       "    (1): ReLU()\n",
       "    (2): BatchNorm2d(32, eps=1e-05, momentum=0.1, affine=True, track_running_stats=True)\n",
       "    (3): MaxPool2d(kernel_size=2, stride=2, padding=0, dilation=1, ceil_mode=False)\n",
       "    (4): Conv2d(32, 16, kernel_size=(3, 3), stride=(1, 1), padding=(1, 1))\n",
       "    (5): ReLU()\n",
       "    (6): BatchNorm2d(16, eps=1e-05, momentum=0.1, affine=True, track_running_stats=True)\n",
       "    (7): MaxPool2d(kernel_size=2, stride=2, padding=0, dilation=1, ceil_mode=False)\n",
       "    (8): Conv2d(16, 8, kernel_size=(3, 3), stride=(1, 1), padding=(1, 1))\n",
       "    (9): ReLU()\n",
       "    (10): BatchNorm2d(8, eps=1e-05, momentum=0.1, affine=True, track_running_stats=True)\n",
       "    (11): MaxPool2d(kernel_size=2, stride=2, padding=0, dilation=1, ceil_mode=False)\n",
       "  )\n",
       "  (decoder): Sequential(\n",
       "    (0): ConvTranspose2d(8, 8, kernel_size=(3, 3), stride=(2, 2))\n",
       "    (1): ReLU()\n",
       "    (2): BatchNorm2d(8, eps=1e-05, momentum=0.1, affine=True, track_running_stats=True)\n",
       "    (3): ConvTranspose2d(8, 16, kernel_size=(2, 2), stride=(2, 2))\n",
       "    (4): ReLU()\n",
       "    (5): BatchNorm2d(16, eps=1e-05, momentum=0.1, affine=True, track_running_stats=True)\n",
       "    (6): ConvTranspose2d(16, 32, kernel_size=(2, 2), stride=(2, 2))\n",
       "    (7): ReLU()\n",
       "    (8): BatchNorm2d(32, eps=1e-05, momentum=0.1, affine=True, track_running_stats=True)\n",
       "    (9): Conv2d(32, 1, kernel_size=(3, 3), stride=(1, 1), padding=(1, 1))\n",
       "    (10): Sigmoid()\n",
       "  )\n",
       "  (model): Sequential(\n",
       "    (0): Sequential(\n",
       "      (0): Conv2d(1, 32, kernel_size=(3, 3), stride=(1, 1), padding=(1, 1))\n",
       "      (1): ReLU()\n",
       "      (2): BatchNorm2d(32, eps=1e-05, momentum=0.1, affine=True, track_running_stats=True)\n",
       "      (3): MaxPool2d(kernel_size=2, stride=2, padding=0, dilation=1, ceil_mode=False)\n",
       "      (4): Conv2d(32, 16, kernel_size=(3, 3), stride=(1, 1), padding=(1, 1))\n",
       "      (5): ReLU()\n",
       "      (6): BatchNorm2d(16, eps=1e-05, momentum=0.1, affine=True, track_running_stats=True)\n",
       "      (7): MaxPool2d(kernel_size=2, stride=2, padding=0, dilation=1, ceil_mode=False)\n",
       "      (8): Conv2d(16, 8, kernel_size=(3, 3), stride=(1, 1), padding=(1, 1))\n",
       "      (9): ReLU()\n",
       "      (10): BatchNorm2d(8, eps=1e-05, momentum=0.1, affine=True, track_running_stats=True)\n",
       "      (11): MaxPool2d(kernel_size=2, stride=2, padding=0, dilation=1, ceil_mode=False)\n",
       "    )\n",
       "    (1): Sequential(\n",
       "      (0): ConvTranspose2d(8, 8, kernel_size=(3, 3), stride=(2, 2))\n",
       "      (1): ReLU()\n",
       "      (2): BatchNorm2d(8, eps=1e-05, momentum=0.1, affine=True, track_running_stats=True)\n",
       "      (3): ConvTranspose2d(8, 16, kernel_size=(2, 2), stride=(2, 2))\n",
       "      (4): ReLU()\n",
       "      (5): BatchNorm2d(16, eps=1e-05, momentum=0.1, affine=True, track_running_stats=True)\n",
       "      (6): ConvTranspose2d(16, 32, kernel_size=(2, 2), stride=(2, 2))\n",
       "      (7): ReLU()\n",
       "      (8): BatchNorm2d(32, eps=1e-05, momentum=0.1, affine=True, track_running_stats=True)\n",
       "      (9): Conv2d(32, 1, kernel_size=(3, 3), stride=(1, 1), padding=(1, 1))\n",
       "      (10): Sigmoid()\n",
       "    )\n",
       "  )\n",
       ")"
      ]
     },
     "execution_count": 14,
     "metadata": {},
     "output_type": "execute_result"
    }
   ],
   "source": [
    "# load the model\n",
    "model.load_state_dict(torch.load('conv_denoiser.pt'))\n",
    "model.eval()"
   ]
  },
  {
   "cell_type": "code",
   "execution_count": 41,
   "id": "8afff2d6-1852-4a3f-a76d-78cd4f53708c",
   "metadata": {},
   "outputs": [
    {
     "data": {
      "image/png": "[encoded data removed]",
      "text/plain": [
       "<Figure size 2500x400 with 20 Axes>"
      ]
     },
     "metadata": {},
     "output_type": "display_data"
    }
   ],
   "source": [
    "# obtain one batch of test images\n",
    "dataiter = iter(data_loaders['test'])\n",
    "images, labels = next(dataiter)\n",
    "\n",
    "# add noise to the test images (model input)\n",
    "noisy_imgs = images + 0.5 * torch.randn(*images.shape)\n",
    "noisy_imgs = np.clip(noisy_imgs, 0., 1.)\n",
    "\n",
    "# get sample output\n",
    "outputs = model(noisy_imgs.cuda())\n",
    "# prep imgs for display\n",
    "noisy_imgs = noisy_imgs.numpy()\n",
    "\n",
    "# print(outputs.requires_grad)\n",
    "# output is resized into batch of images\n",
    "outputs = outputs.view(20, 1, 28, 28)\n",
    "# use detach when its output that requires_grad\n",
    "outputs = outputs.detach().cpu().numpy()\n",
    "\n",
    "# plot first ten input images and then reconstructed images\n",
    "fig, axes = plt.subplots(2, 10, sharex=True, sharey=True, figsize=(25, 4))\n",
    "\n",
    "# input images on top row, reconstructions on bottom\n",
    "for noisy_imgs, row in zip([noisy_imgs, outputs], axes):\n",
    "    for img, ax in zip(noisy_imgs, row):\n",
    "        ax.imshow(np.squeeze(img), cmap='gray')\n",
    "        ax.get_xaxis().set_visible(False)\n",
    "        ax.get_yaxis().set_visible(False)"
   ]
  }
 ],
 "metadata": {
  "kernelspec": {
   "display_name": "Python 3 (ipykernel)",
   "language": "python",
   "name": "python3"
  },
  "language_info": {
   "codemirror_mode": {
    "name": "ipython",
    "version": 3
   },
   "file_extension": ".py",
   "mimetype": "text/x-python",
   "name": "python",
   "nbconvert_exporter": "python",
   "pygments_lexer": "ipython3",
   "version": "3.10.13"
  }
 },
 "nbformat": 4,
 "nbformat_minor": 5
}
